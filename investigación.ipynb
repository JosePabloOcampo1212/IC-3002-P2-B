{
 "cells": [
  {
   "cell_type": "markdown",
   "id": "17f57b4c",
   "metadata": {},
   "source": [
    "## Problema ##"
   ]
  },
  {
   "cell_type": "markdown",
   "id": "a032a98a",
   "metadata": {},
   "source": [
    "### Hipótesis ###"
   ]
  },
  {
   "cell_type": "markdown",
   "id": "a49d1060",
   "metadata": {},
   "source": [
    "## Metodología ##"
   ]
  },
  {
   "cell_type": "markdown",
   "id": "5b76a242",
   "metadata": {},
   "source": [
    "### Experimentos ###"
   ]
  },
  {
   "cell_type": "markdown",
   "id": "0470b924",
   "metadata": {},
   "source": [
    "## Resultados ##"
   ]
  },
  {
   "cell_type": "markdown",
   "id": "c8fcb7d4",
   "metadata": {},
   "source": [
    "## Análisis ##"
   ]
  },
  {
   "cell_type": "markdown",
   "id": "841c6a18",
   "metadata": {},
   "source": [
    "## Conclusiones ##"
   ]
  }
 ],
 "metadata": {
  "kernelspec": {
   "display_name": "Python 3",
   "language": "python",
   "name": "python3"
  },
  "language_info": {
   "codemirror_mode": {
    "name": "ipython",
    "version": 3
   },
   "file_extension": ".py",
   "mimetype": "text/x-python",
   "name": "python",
   "nbconvert_exporter": "python",
   "pygments_lexer": "ipython3",
   "version": "3.8.5"
  }
 },
 "nbformat": 4,
 "nbformat_minor": 5
}
